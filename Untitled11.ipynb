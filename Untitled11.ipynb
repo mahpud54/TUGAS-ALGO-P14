{
  "nbformat": 4,
  "nbformat_minor": 0,
  "metadata": {
    "colab": {
      "provenance": [],
      "authorship_tag": "ABX9TyN9fovGDZM1rAr+wO244LSs",
      "include_colab_link": true
    },
    "kernelspec": {
      "name": "python3",
      "display_name": "Python 3"
    },
    "language_info": {
      "name": "python"
    }
  },
  "cells": [
    {
      "cell_type": "markdown",
      "metadata": {
        "id": "view-in-github",
        "colab_type": "text"
      },
      "source": [
        "<a href=\"https://colab.research.google.com/github/mahpud54/TUGAS-ALGO-P14/blob/main/Untitled11.ipynb\" target=\"_parent\"><img src=\"https://colab.research.google.com/assets/colab-badge.svg\" alt=\"Open In Colab\"/></a>"
      ]
    },
    {
      "cell_type": "markdown",
      "source": [
        "INVENTORY TOKO KECIL\n",
        "\n",
        "Aplikasi ini dibuat untuk membantu toko kecil dalam mengelola inventaris secara efisien. Pengguna dapat menambah barang baru, mencari barang berdasarkan nama atau kode, serta melihat laporan stok secara keseluruhan. Data disimpan di database SQLite agar mudah digunakan tanpa perlu server tambahan.\n"
      ],
      "metadata": {
        "id": "j3fjyrMikMn0"
      }
    },
    {
      "cell_type": "code",
      "execution_count": null,
      "metadata": {
        "colab": {
          "base_uri": "https://localhost:8080/"
        },
        "id": "L27NeXafgnl5",
        "outputId": "2a9aec3d-abad-44a8-a3a8-6301e1874150"
      },
      "outputs": [
        {
          "output_type": "stream",
          "name": "stdout",
          "text": [
            "=== Sistem Inventori Toko Kecil ===\n",
            "1. Tambah Barang\n",
            "2. Cari Barang\n",
            "3. Lihat Laporan Stok\n",
            "4. Keluar\n",
            "Pilih menu (1-4): 1\n",
            "\n",
            "Kode Barang: 0123\n",
            "Nama Barang: kopi\n",
            "Jumlah: 100\n",
            "Satuan (pcs/kg/dll): 1kg\n",
            "✅ Barang berhasil ditambahkan.\n",
            "\n",
            "=== Sistem Inventori Toko Kecil ===\n",
            "1. Tambah Barang\n",
            "2. Cari Barang\n",
            "3. Lihat Laporan Stok\n",
            "4. Keluar\n",
            "Pilih menu (1-4): 2\n",
            "\n",
            "Cari berdasarkan nama/kode: 0123\n",
            "(1, '0123', 'kopi', 100, '1kg')\n",
            "=== Sistem Inventori Toko Kecil ===\n",
            "1. Tambah Barang\n",
            "2. Cari Barang\n",
            "3. Lihat Laporan Stok\n",
            "4. Keluar\n",
            "Pilih menu (1-4): 3\n",
            "\n",
            "\n",
            "📦 Laporan Stok Barang:\n",
            "Kode: 0123 | Nama: kopi | Jumlah: 100 1kg\n",
            "\n",
            "=== Sistem Inventori Toko Kecil ===\n",
            "1. Tambah Barang\n",
            "2. Cari Barang\n",
            "3. Lihat Laporan Stok\n",
            "4. Keluar\n",
            "Pilih menu (1-4): 4\n",
            "\n",
            "Terima kasih! 👋\n"
          ]
        }
      ],
      "source": [
        "import sqlite3\n",
        "\n",
        "# Inisialisasi database\n",
        "def init_db():\n",
        "    conn = sqlite3.connect('inventory.db')\n",
        "    c = conn.cursor()\n",
        "    c.execute('''\n",
        "        CREATE TABLE IF NOT EXISTS items (\n",
        "            id INTEGER PRIMARY KEY AUTOINCREMENT,\n",
        "            kode_barang TEXT NOT NULL,\n",
        "            nama_barang TEXT NOT NULL,\n",
        "            jumlah INTEGER NOT NULL,\n",
        "            satuan TEXT NOT NULL\n",
        "        )\n",
        "    ''')\n",
        "    conn.commit()\n",
        "    conn.close()\n",
        "\n",
        "# Tambah data barang\n",
        "def tambah_barang():\n",
        "    kode = input(\"Kode Barang: \")\n",
        "    nama = input(\"Nama Barang: \")\n",
        "    jumlah = int(input(\"Jumlah: \"))\n",
        "    satuan = input(\"Satuan (pcs/kg/dll): \")\n",
        "\n",
        "    conn = sqlite3.connect('inventory.db')\n",
        "    c = conn.cursor()\n",
        "    c.execute(\"INSERT INTO items (kode_barang, nama_barang, jumlah, satuan) VALUES (?, ?, ?, ?)\",\n",
        "              (kode, nama, jumlah, satuan))\n",
        "    conn.commit()\n",
        "    conn.close()\n",
        "    print(\"✅ Barang berhasil ditambahkan.\\n\")\n",
        "\n",
        "# Cari barang\n",
        "def cari_barang():\n",
        "    keyword = input(\"Cari berdasarkan nama/kode: \")\n",
        "\n",
        "    conn = sqlite3.connect('inventory.db')\n",
        "    c = conn.cursor()\n",
        "    c.execute(\"SELECT * FROM items WHERE nama_barang LIKE ? OR kode_barang LIKE ?\",\n",
        "              ('%' + keyword + '%', '%' + keyword + '%'))\n",
        "    hasil = c.fetchall()\n",
        "    conn.close()\n",
        "\n",
        "    if hasil:\n",
        "        for item in hasil:\n",
        "            print(item)\n",
        "    else:\n",
        "        print(\"❌ Barang tidak ditemukan.\\n\")\n",
        "\n",
        "# Lihat semua barang\n",
        "def laporan_stok():\n",
        "    conn = sqlite3.connect('inventory.db')\n",
        "    c = conn.cursor()\n",
        "    c.execute(\"SELECT * FROM items\")\n",
        "    semua = c.fetchall()\n",
        "    conn.close()\n",
        "\n",
        "    print(\"\\n📦 Laporan Stok Barang:\")\n",
        "    for item in semua:\n",
        "        print(f\"Kode: {item[1]} | Nama: {item[2]} | Jumlah: {item[3]} {item[4]}\")\n",
        "    print()\n",
        "\n",
        "# Menu utama\n",
        "def main():\n",
        "    init_db()\n",
        "    while True:\n",
        "        print(\"=== Sistem Inventori Toko Kecil ===\")\n",
        "        print(\"1. Tambah Barang\")\n",
        "        print(\"2. Cari Barang\")\n",
        "        print(\"3. Lihat Laporan Stok\")\n",
        "        print(\"4. Keluar\")\n",
        "\n",
        "        pilihan = input(\"Pilih menu (1-4): \")\n",
        "        print()\n",
        "        if pilihan == '1':\n",
        "            tambah_barang()\n",
        "        elif pilihan == '2':\n",
        "            cari_barang()\n",
        "        elif pilihan == '3':\n",
        "            laporan_stok()\n",
        "        elif pilihan == '4':\n",
        "            print(\"Terima kasih! 👋\")\n",
        "            break\n",
        "        else:\n",
        "            print(\"❌ Pilihan tidak valid.\\n\")\n",
        "\n",
        "if __name__ == '__main__':\n",
        "    main()"
      ]
    }
  ]
}